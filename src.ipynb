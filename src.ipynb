{
 "cells": [
  {
   "cell_type": "code",
   "execution_count": 1,
   "metadata": {},
   "outputs": [],
   "source": [
    "import pandas as pd\n",
    "import numpy as np\n",
    "import matplotlib.pyplot as plt\n",
    "import scipy.stats as s\n",
    "import seaborn as sns\n",
    "import random"
   ]
  },
  {
   "cell_type": "code",
   "execution_count": 2,
   "metadata": {},
   "outputs": [],
   "source": [
    "training_data = pd.DataFrame(data={\"x\":np.random.normal(loc=65,scale=5,size=1000)})"
   ]
  },
  {
   "cell_type": "code",
   "execution_count": 3,
   "metadata": {},
   "outputs": [
    {
     "data": {
      "text/html": [
       "<div>\n",
       "<style scoped>\n",
       "    .dataframe tbody tr th:only-of-type {\n",
       "        vertical-align: middle;\n",
       "    }\n",
       "\n",
       "    .dataframe tbody tr th {\n",
       "        vertical-align: top;\n",
       "    }\n",
       "\n",
       "    .dataframe thead th {\n",
       "        text-align: right;\n",
       "    }\n",
       "</style>\n",
       "<table border=\"1\" class=\"dataframe\">\n",
       "  <thead>\n",
       "    <tr style=\"text-align: right;\">\n",
       "      <th></th>\n",
       "      <th>x</th>\n",
       "    </tr>\n",
       "  </thead>\n",
       "  <tbody>\n",
       "    <tr>\n",
       "      <th>0</th>\n",
       "      <td>64.069538</td>\n",
       "    </tr>\n",
       "    <tr>\n",
       "      <th>1</th>\n",
       "      <td>68.499925</td>\n",
       "    </tr>\n",
       "    <tr>\n",
       "      <th>2</th>\n",
       "      <td>67.533734</td>\n",
       "    </tr>\n",
       "    <tr>\n",
       "      <th>3</th>\n",
       "      <td>69.441603</td>\n",
       "    </tr>\n",
       "    <tr>\n",
       "      <th>4</th>\n",
       "      <td>62.135776</td>\n",
       "    </tr>\n",
       "    <tr>\n",
       "      <th>...</th>\n",
       "      <td>...</td>\n",
       "    </tr>\n",
       "    <tr>\n",
       "      <th>995</th>\n",
       "      <td>60.275676</td>\n",
       "    </tr>\n",
       "    <tr>\n",
       "      <th>996</th>\n",
       "      <td>64.668942</td>\n",
       "    </tr>\n",
       "    <tr>\n",
       "      <th>997</th>\n",
       "      <td>56.292779</td>\n",
       "    </tr>\n",
       "    <tr>\n",
       "      <th>998</th>\n",
       "      <td>73.113135</td>\n",
       "    </tr>\n",
       "    <tr>\n",
       "      <th>999</th>\n",
       "      <td>66.719440</td>\n",
       "    </tr>\n",
       "  </tbody>\n",
       "</table>\n",
       "<p>1000 rows × 1 columns</p>\n",
       "</div>"
      ],
      "text/plain": [
       "             x\n",
       "0    64.069538\n",
       "1    68.499925\n",
       "2    67.533734\n",
       "3    69.441603\n",
       "4    62.135776\n",
       "..         ...\n",
       "995  60.275676\n",
       "996  64.668942\n",
       "997  56.292779\n",
       "998  73.113135\n",
       "999  66.719440\n",
       "\n",
       "[1000 rows x 1 columns]"
      ]
     },
     "execution_count": 3,
     "metadata": {},
     "output_type": "execute_result"
    }
   ],
   "source": [
    "training_data"
   ]
  },
  {
   "cell_type": "code",
   "execution_count": 4,
   "metadata": {},
   "outputs": [
    {
     "data": {
      "text/plain": [
       "(array([  3.,   7.,  18.,  28.,  43.,  69.,  84., 112., 144., 114., 119.,\n",
       "         85.,  60.,  57.,  29.,  17.,   6.,   3.,   1.,   1.]),\n",
       " array([50.60682531, 52.20801696, 53.80920862, 55.41040027, 57.01159193,\n",
       "        58.61278358, 60.21397523, 61.81516689, 63.41635854, 65.0175502 ,\n",
       "        66.61874185, 68.2199335 , 69.82112516, 71.42231681, 73.02350846,\n",
       "        74.62470012, 76.22589177, 77.82708343, 79.42827508, 81.02946673,\n",
       "        82.63065839]),\n",
       " <BarContainer object of 20 artists>)"
      ]
     },
     "execution_count": 4,
     "metadata": {},
     "output_type": "execute_result"
    },
    {
     "data": {
      "image/png": "[encoded data removed]",
      "text/plain": [
       "<Figure size 640x480 with 1 Axes>"
      ]
     },
     "metadata": {},
     "output_type": "display_data"
    }
   ],
   "source": [
    "plt.hist(training_data, bins=20)"
   ]
  },
  {
   "cell_type": "code",
   "execution_count": 5,
   "metadata": {},
   "outputs": [],
   "source": [
    "mu_values = np.linspace(63, 67, 200)\n",
    "sigma_values = np.linspace(4, 6, 200)\n",
    "mu_grid, sigma_grid = np.meshgrid(mu_values, sigma_values)"
   ]
  },
  {
   "cell_type": "code",
   "execution_count": 6,
   "metadata": {},
   "outputs": [],
   "source": [
    "nll_values = np.zeros_like(mu_grid)"
   ]
  },
  {
   "cell_type": "code",
   "execution_count": 7,
   "metadata": {},
   "outputs": [],
   "source": [
    "def gaussian_nll(mu,sigma):\n",
    "\n",
    "    log_pdf = s.norm.logpdf(training_data,mu,sigma)\n",
    "    return -np.mean(log_pdf)"
   ]
  },
  {
   "cell_type": "code",
   "execution_count": 8,
   "metadata": {},
   "outputs": [],
   "source": [
    "for i in range(mu_grid.shape[0]):\n",
    "    for j in range(mu_grid.shape[1]):\n",
    "        nll_values[i, j] = gaussian_nll(mu_grid[i, j], sigma_grid[i, j])"
   ]
  },
  {
   "cell_type": "code",
   "execution_count": null,
   "metadata": {},
   "outputs": [],
   "source": [
    "fig = plt.figure(figsize=(12, 8))\n",
    "ax = fig.add_subplot(111, projection='3d')\n",
    "\n",
    "ax.plot_surface(mu_grid, sigma_grid, nll_values, cmap='viridis', edgecolor='none')\n",
    "ax.set_xlabel('Mean (mu)')\n",
    "ax.set_ylabel('Standard Deviation (sigma)')\n",
    "ax.set_zlabel('Negative Log Likelihood (NLL)')\n",
    "ax.set_title('3D Plot of Negative Log Likelihood Function (Convex Surface)')\n",
    "\n",
    "# Adjusting the view angle to better visualize the convexity\n",
    "ax.view_init(elev=45, azim=225)\n",
    "\n",
    "plt.show()"
   ]
  },
  {
   "cell_type": "code",
   "execution_count": null,
   "metadata": {},
   "outputs": [],
   "source": [
    "def del_by_del_gaussian_nll(mu_initial,sigma_initial):\n",
    "\n",
    "    del_by_del_mu = -np.mean(training_data - mu_initial)/sigma_initial**2\n",
    "    del_by_del_sigma = (1/sigma_initial) - np.mean(training_data - mu_initial)**2/sigma_initial**3\n",
    "\n",
    "    return [del_by_del_mu,del_by_del_sigma]"
   ]
  },
  {
   "cell_type": "code",
   "execution_count": null,
   "metadata": {},
   "outputs": [],
   "source": [
    "epsilon = 10**(-2)\n",
    "epoch_counter = 0\n",
    "mu_initial = 5\n",
    "sigma_initial = 1\n",
    "tol = 10**(-6)\n",
    "\n",
    "while True:\n",
    "\n",
    "    initial_gradients = del_by_del_gaussian_nll(mu_initial,sigma_initial)\n",
    "\n",
    "    mu_final = mu_initial - (epsilon * initial_gradients[0])\n",
    "    sigma_final = sigma_initial - (epsilon * initial_gradients[1])\n",
    "\n",
    "    nll_initial_value = gaussian_nll(mu_initial,sigma_initial)\n",
    "    nll_final_value = gaussian_nll(mu_final,sigma_final)\n",
    "\n",
    "    if abs(nll_initial_value - nll_final_value) < tol:\n",
    "        break\n",
    "\n",
    "    epoch_counter += 1\n",
    "\n",
    "    mu_initial = mu_final\n",
    "    sigma_initial = sigma_final\n",
    "\n",
    "    print(\"Epoch # {}, NLL Value = {}\".format(epoch_counter,nll_initial_value))"
   ]
  },
  {
   "cell_type": "code",
   "execution_count": null,
   "metadata": {},
   "outputs": [],
   "source": [
    "mu_final"
   ]
  },
  {
   "cell_type": "code",
   "execution_count": null,
   "metadata": {},
   "outputs": [],
   "source": [
    "sigma_final"
   ]
  },
  {
   "cell_type": "code",
   "execution_count": null,
   "metadata": {},
   "outputs": [],
   "source": [
    "sns.distplot(a=training_data[\"x\"],bins=10,fit=s.norm,kde=False)"
   ]
  },
  {
   "cell_type": "code",
   "execution_count": null,
   "metadata": {},
   "outputs": [],
   "source": [
    "def del_by_del_rayleigh_nll(sigma_initial):\n",
    "\n",
    "    del_by_del_sigma = -np.mean((-2)/sigma_initial + training_data**2/sigma_initial**3)\n",
    "\n",
    "    return del_by_del_sigma"
   ]
  },
  {
   "cell_type": "code",
   "execution_count": null,
   "metadata": {},
   "outputs": [],
   "source": [
    "def rayleigh_nll(sigma):\n",
    "\n",
    "    log_pdf = -np.mean(s.rayleigh.logpdf(training_data,sigma))\n",
    "\n",
    "    return log_pdf"
   ]
  },
  {
   "cell_type": "code",
   "execution_count": null,
   "metadata": {},
   "outputs": [],
   "source": [
    "epsilon = 10**(-2)\n",
    "epoch_counter = 0\n",
    "sigma_initial = 1\n",
    "tol = 10**(-6)\n",
    "\n",
    "while True:\n",
    "\n",
    "    initial_gradients = del_by_del_rayleigh_nll(sigma_initial)\n",
    "\n",
    "    sigma_final = sigma_initial - (epsilon * initial_gradients)\n",
    "\n",
    "    nll_initial_value = rayleigh_nll(sigma_initial)\n",
    "    nll_final_value = rayleigh_nll(sigma_final)\n",
    "\n",
    "    if abs(nll_initial_value - nll_final_value) < tol:\n",
    "        break\n",
    "\n",
    "    epoch_counter += 1\n",
    "    sigma_initial = sigma_final\n",
    "\n",
    "    print(\"Epoch # {}, NLL Value = {}\".format(epoch_counter,nll_initial_value))"
   ]
  },
  {
   "cell_type": "code",
   "execution_count": 4,
   "metadata": {},
   "outputs": [],
   "source": [
    "training_data = pd.DataFrame(data={\"x\":np.random.binomial(n=1,p=0.65,size=1000)})"
   ]
  },
  {
   "cell_type": "code",
   "execution_count": 5,
   "metadata": {},
   "outputs": [
    {
     "data": {
      "text/html": [
       "<div>\n",
       "<style scoped>\n",
       "    .dataframe tbody tr th:only-of-type {\n",
       "        vertical-align: middle;\n",
       "    }\n",
       "\n",
       "    .dataframe tbody tr th {\n",
       "        vertical-align: top;\n",
       "    }\n",
       "\n",
       "    .dataframe thead th {\n",
       "        text-align: right;\n",
       "    }\n",
       "</style>\n",
       "<table border=\"1\" class=\"dataframe\">\n",
       "  <thead>\n",
       "    <tr style=\"text-align: right;\">\n",
       "      <th></th>\n",
       "      <th>x</th>\n",
       "    </tr>\n",
       "  </thead>\n",
       "  <tbody>\n",
       "    <tr>\n",
       "      <th>0</th>\n",
       "      <td>1</td>\n",
       "    </tr>\n",
       "    <tr>\n",
       "      <th>1</th>\n",
       "      <td>1</td>\n",
       "    </tr>\n",
       "    <tr>\n",
       "      <th>2</th>\n",
       "      <td>1</td>\n",
       "    </tr>\n",
       "    <tr>\n",
       "      <th>3</th>\n",
       "      <td>0</td>\n",
       "    </tr>\n",
       "    <tr>\n",
       "      <th>4</th>\n",
       "      <td>0</td>\n",
       "    </tr>\n",
       "    <tr>\n",
       "      <th>...</th>\n",
       "      <td>...</td>\n",
       "    </tr>\n",
       "    <tr>\n",
       "      <th>995</th>\n",
       "      <td>1</td>\n",
       "    </tr>\n",
       "    <tr>\n",
       "      <th>996</th>\n",
       "      <td>1</td>\n",
       "    </tr>\n",
       "    <tr>\n",
       "      <th>997</th>\n",
       "      <td>1</td>\n",
       "    </tr>\n",
       "    <tr>\n",
       "      <th>998</th>\n",
       "      <td>0</td>\n",
       "    </tr>\n",
       "    <tr>\n",
       "      <th>999</th>\n",
       "      <td>1</td>\n",
       "    </tr>\n",
       "  </tbody>\n",
       "</table>\n",
       "<p>1000 rows × 1 columns</p>\n",
       "</div>"
      ],
      "text/plain": [
       "     x\n",
       "0    1\n",
       "1    1\n",
       "2    1\n",
       "3    0\n",
       "4    0\n",
       "..  ..\n",
       "995  1\n",
       "996  1\n",
       "997  1\n",
       "998  0\n",
       "999  1\n",
       "\n",
       "[1000 rows x 1 columns]"
      ]
     },
     "execution_count": 5,
     "metadata": {},
     "output_type": "execute_result"
    }
   ],
   "source": [
    "training_data"
   ]
  },
  {
   "cell_type": "code",
   "execution_count": 6,
   "metadata": {},
   "outputs": [],
   "source": [
    "def bernoulli_nll(p):\n",
    "\n",
    "    log_pdf = s.bernoulli.logpmf(training_data,p)\n",
    "\n",
    "    return -np.mean(log_pdf)"
   ]
  },
  {
   "cell_type": "code",
   "execution_count": 10,
   "metadata": {},
   "outputs": [],
   "source": [
    "def del_by_del_bernoulli_nll(initial_p):\n",
    "\n",
    "    del_by_del_p = np.mean((initial_p - training_data)/(initial_p * (1 - initial_p)))\n",
    "\n",
    "    return del_by_del_p"
   ]
  },
  {
   "cell_type": "code",
   "execution_count": 11,
   "metadata": {},
   "outputs": [
    {
     "name": "stdout",
     "output_type": "stream",
     "text": [
      "Epoch # 1, NLL Value = 0.7008771201536718\n",
      "Epoch # 2, NLL Value = 0.6978559997574756\n",
      "Epoch # 3, NLL Value = 0.6950745026174107\n",
      "Epoch # 4, NLL Value = 0.6925122604172628\n",
      "Epoch # 5, NLL Value = 0.6901509159474027\n",
      "Epoch # 6, NLL Value = 0.6879738765063923\n",
      "Epoch # 7, NLL Value = 0.6859661046987167\n",
      "Epoch # 8, NLL Value = 0.6841139399623621\n",
      "Epoch # 9, NLL Value = 0.682404945501768\n",
      "Epoch # 10, NLL Value = 0.6808277763444175\n",
      "Epoch # 11, NLL Value = 0.6793720650559235\n",
      "Epoch # 12, NLL Value = 0.6780283222926385\n",
      "Epoch # 13, NLL Value = 0.6767878498824194\n",
      "Epoch # 14, NLL Value = 0.6756426645331066\n",
      "Epoch # 15, NLL Value = 0.6745854305971015\n",
      "Epoch # 16, NLL Value = 0.6736094005863167\n",
      "Epoch # 17, NLL Value = 0.6727083623479314\n",
      "Epoch # 18, NLL Value = 0.6718765919879693\n",
      "Epoch # 19, NLL Value = 0.6711088117746438\n",
      "Epoch # 20, NLL Value = 0.6704001523728972\n",
      "Epoch # 21, NLL Value = 0.6697461188604402\n",
      "Epoch # 22, NLL Value = 0.6691425600577658\n",
      "Epoch # 23, NLL Value = 0.6685856407731223\n",
      "Epoch # 24, NLL Value = 0.6680718166207579\n",
      "Epoch # 25, NLL Value = 0.6675978111188537\n",
      "Epoch # 26, NLL Value = 0.6671605948140814\n",
      "Epoch # 27, NLL Value = 0.6667573662139065\n",
      "Epoch # 28, NLL Value = 0.6663855343367198\n",
      "Epoch # 29, NLL Value = 0.666042702714454\n",
      "Epoch # 30, NLL Value = 0.6657266547032488\n",
      "Epoch # 31, NLL Value = 0.6654353399755835\n",
      "Epoch # 32, NLL Value = 0.6651668620825444\n",
      "Epoch # 33, NLL Value = 0.6649194669879912\n",
      "Epoch # 34, NLL Value = 0.6646915324876266\n",
      "Epoch # 35, NLL Value = 0.6644815584356738\n",
      "Epoch # 36, NLL Value = 0.6642881577102464\n",
      "Epoch # 37, NLL Value = 0.6641100478557492\n",
      "Epoch # 38, NLL Value = 0.6639460433469728\n",
      "Epoch # 39, NLL Value = 0.6637950484250318\n",
      "Epoch # 40, NLL Value = 0.6636560504601194\n",
      "Epoch # 41, NLL Value = 0.6635281138002739\n",
      "Epoch # 42, NLL Value = 0.6634103740690593\n",
      "Epoch # 43, NLL Value = 0.6633020328783614\n",
      "Epoch # 44, NLL Value = 0.6632023529254042\n",
      "Epoch # 45, NLL Value = 0.6631106534456903\n",
      "Epoch # 46, NLL Value = 0.6630263059958772\n",
      "Epoch # 47, NLL Value = 0.6629487305426923\n",
      "Epoch # 48, NLL Value = 0.6628773918358458\n",
      "Epoch # 49, NLL Value = 0.6628117960445964\n",
      "Epoch # 50, NLL Value = 0.6627514876391576\n",
      "Epoch # 51, NLL Value = 0.6626960464995186\n",
      "Epoch # 52, NLL Value = 0.6626450852355336\n",
      "Epoch # 53, NLL Value = 0.6625982467032844\n",
      "Epoch # 54, NLL Value = 0.6625552017038066\n",
      "Epoch # 55, NLL Value = 0.6625156468512302\n",
      "Epoch # 56, NLL Value = 0.6624793025983147\n",
      "Epoch # 57, NLL Value = 0.6624459114081782\n",
      "Epoch # 58, NLL Value = 0.6624152360618055\n",
      "Epoch # 59, NLL Value = 0.6623870580916391\n",
      "Epoch # 60, NLL Value = 0.6623611763322246\n",
      "Epoch # 61, NLL Value = 0.6623374055794994\n",
      "Epoch # 62, NLL Value = 0.6623155753509063\n",
      "Epoch # 63, NLL Value = 0.6622955287390332\n",
      "Epoch # 64, NLL Value = 0.6622771213520029\n",
      "Epoch # 65, NLL Value = 0.6622602203342955\n",
      "Epoch # 66, NLL Value = 0.6622447034621214\n",
      "Epoch # 67, NLL Value = 0.6622304583078858\n",
      "Epoch # 68, NLL Value = 0.6622173814686525\n",
      "Epoch # 69, NLL Value = 0.6622053778538772\n",
      "Epoch # 70, NLL Value = 0.6621943600280185\n",
      "Epoch # 71, NLL Value = 0.6621842476039351\n",
      "Epoch # 72, NLL Value = 0.6621749666832805\n",
      "Epoch # 73, NLL Value = 0.6621664493403621\n",
      "Epoch # 74, NLL Value = 0.6621586331462004\n",
      "Epoch # 75, NLL Value = 0.6621514607297451\n",
      "Epoch # 76, NLL Value = 0.6621448793734369\n",
      "Epoch # 77, NLL Value = 0.6621388406404984\n",
      "Epoch # 78, NLL Value = 0.6621333000315321\n",
      "Epoch # 79, NLL Value = 0.6621282166681871\n",
      "Epoch # 80, NLL Value = 0.6621235530018066\n",
      "Epoch # 81, NLL Value = 0.6621192745451405\n",
      "Epoch # 82, NLL Value = 0.6621153496253344\n",
      "Epoch # 83, NLL Value = 0.6621117491565476\n",
      "Epoch # 84, NLL Value = 0.6621084464306766\n",
      "Epoch # 85, NLL Value = 0.6621054169247707\n",
      "Epoch # 86, NLL Value = 0.6621026381238357\n",
      "Epoch # 87, NLL Value = 0.6621000893578234\n",
      "Epoch # 88, NLL Value = 0.6620977516516868\n",
      "Epoch # 89, NLL Value = 0.6620956075874791\n",
      "Epoch # 90, NLL Value = 0.6620936411775409\n",
      "Epoch # 91, NLL Value = 0.6620918377479038\n",
      "Epoch # 92, NLL Value = 0.6620901838310967\n",
      "Epoch # 93, NLL Value = 0.66208866706761\n",
      "Epoch # 94, NLL Value = 0.6620872761153282\n",
      "Epoch # 95, NLL Value = 0.6620860005662977\n",
      "Epoch # 96, NLL Value = 0.6620848308702415\n"
     ]
    }
   ],
   "source": [
    "epsilon = 10**(-2)\n",
    "epoch_counter = 0\n",
    "p_initial = random.uniform(0.00000000001,1)\n",
    "tol = 10**(-6)\n",
    "\n",
    "while True:\n",
    "\n",
    "    initial_gradients = del_by_del_bernoulli_nll(p_initial)\n",
    "\n",
    "    p_final = p_initial - (epsilon * initial_gradients)\n",
    "\n",
    "    nll_initial_value = bernoulli_nll(p_initial)\n",
    "    nll_final_value = bernoulli_nll(p_final)\n",
    "\n",
    "    if abs(nll_initial_value - nll_final_value) < tol:\n",
    "        break\n",
    "\n",
    "    epoch_counter += 1\n",
    "    p_initial = p_final\n",
    "\n",
    "    print(\"Epoch # {}, NLL Value = {}\".format(epoch_counter,nll_initial_value))"
   ]
  },
  {
   "cell_type": "code",
   "execution_count": 12,
   "metadata": {},
   "outputs": [
    {
     "data": {
      "text/plain": [
       "np.float64(0.6217424947604702)"
      ]
     },
     "execution_count": 12,
     "metadata": {},
     "output_type": "execute_result"
    }
   ],
   "source": [
    "p_final"
   ]
  },
  {
   "cell_type": "code",
   "execution_count": null,
   "metadata": {},
   "outputs": [],
   "source": []
  }
 ],
 "metadata": {
  "kernelspec": {
   "display_name": ".venv",
   "language": "python",
   "name": "python3"
  },
  "language_info": {
   "codemirror_mode": {
    "name": "ipython",
    "version": 3
   },
   "file_extension": ".py",
   "mimetype": "text/x-python",
   "name": "python",
   "nbconvert_exporter": "python",
   "pygments_lexer": "ipython3",
   "version": "3.12.1"
  }
 },
 "nbformat": 4,
 "nbformat_minor": 2
}
